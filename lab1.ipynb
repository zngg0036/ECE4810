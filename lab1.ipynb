{
 "cells": [
  {
   "cell_type": "markdown",
   "id": "79ddf15b",
   "metadata": {},
   "source": [
    "import required library"
   ]
  },
  {
   "cell_type": "code",
   "execution_count": null,
   "id": "77717f9d",
   "metadata": {},
   "outputs": [
    {
     "ename": "",
     "evalue": "",
     "output_type": "error",
     "traceback": [
      "\u001b[1;31mRunning cells with '3200_venv (Python 3.11.0)' requires the ipykernel package.\n",
      "\u001b[1;31mInstall 'ipykernel' into the Python environment. \n",
      "\u001b[1;31mCommand: '\"c:/Users/zhengyang/OneDrive - Monash University/Monash/Y4S1/ECE4810/Lab1/3200_venv/Scripts/python.exe\" -m pip install ipykernel -U --force-reinstall'"
     ]
    }
   ],
   "source": [
    "import requests\n",
    "import time\n",
    "import datetime\n",
    "import RPi.GPIO as GPIO"
   ]
  },
  {
   "cell_type": "markdown",
   "id": "51c0debf",
   "metadata": {},
   "source": []
  },
  {
   "cell_type": "code",
   "execution_count": null,
   "id": "d920944d",
   "metadata": {},
   "outputs": [],
   "source": [
    "TOKEN = \"8293759891:AAE3pE6bSDvyJvoAwAZPZ6DAeo9zURCQlbo\"\n",
    "CHAT_ID = \"1443462038\""
   ]
  }
 ],
 "metadata": {
  "kernelspec": {
   "display_name": "Python 3",
   "language": "python",
   "name": "python3"
  },
  "language_info": {
   "name": "python",
   "version": "3.11.0"
  }
 },
 "nbformat": 4,
 "nbformat_minor": 5
}
